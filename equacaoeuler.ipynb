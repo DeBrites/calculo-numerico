{
 "cells": [
  {
   "cell_type": "code",
   "execution_count": 14,
   "metadata": {
    "collapsed": false
   },
   "outputs": [
    {
     "name": "stdout",
     "output_type": "stream",
     "text": [
      "f =\r\n",
      "\r\n",
      "@(x) (e .^ x - e .^ (-x)) / 2\r\n",
      "\r\n"
     ]
    }
   ],
   "source": [
    "f = @(x) (e.^x - e.^(-x)) / 2\n"
   ]
  },
  {
   "cell_type": "code",
   "execution_count": 15,
   "metadata": {
    "collapsed": false
   },
   "outputs": [
   ],
   "source": [
    "x = -4:0.1:4;\n",
    "y = f(x);\n"
   ]
  },
  {
   "cell_type": "code",
   "execution_count": 17,
   "metadata": {
    "collapsed": false
   },
   "outputs": [
    {
     "data": {
      "image/png": "[encoded data removed]",
      "text/plain": [
       "<IPython.core.display.Image object>"
      ]
     },
     "execution_count": 17,
     "metadata": {
     },
     "output_type": "execute_result"
    }
   ],
   "source": [
    "plot(x,y,'r')"
   ]
  },
  {
   "cell_type": "code",
   "execution_count": 18,
   "metadata": {
    "collapsed": false,
    "scrolled": true
   },
   "outputs": [
    {
     "name": "stdout",
     "output_type": "stream",
     "text": [
      "k = 0\r\n"
     ]
    },
    {
     "name": "stdout",
     "output_type": "stream",
     "text": [
      "N =  15\r\n"
     ]
    },
    {
     "name": "stdout",
     "output_type": "stream",
     "text": [
      "x = 0\r\n"
     ]
    },
    {
     "name": "stdout",
     "output_type": "stream",
     "text": [
      "x = 0\r\n",
      "k =  1\r\n",
      "x =  1\r\n",
      "k =  2\r\n",
      "x =  2.4142\r\n",
      "k =  3\r\n",
      "x =  4.1463\r\n",
      "k =  4\r\n",
      "x =  6.1463\r\n",
      "k =  5\r\n",
      "x =  8.3823\r\n",
      "k =  6\r\n",
      "x =  10.832\r\n",
      "k =  7\r\n",
      "x =  13.478\r\n",
      "k =  8\r\n",
      "x =  16.306\r\n",
      "k =  9\r\n",
      "x =  19.306\r\n",
      "k =  10\r\n",
      "x =  22.468\r\n",
      "k =  11\r\n",
      "x =  25.785\r\n",
      "k =  12\r\n",
      "x =  29.249\r\n",
      "k =  13\r\n",
      "x =  32.855\r\n",
      "k =  14\r\n",
      "x =  36.596\r\n",
      "k =  15\r\n",
      "x =  40.469\r\n",
      "k =  16\r\n"
     ]
    }
   ],
   "source": [
    "k = 0\n",
    "N = 15\n",
    "x = 0.0\n",
    "while k <=N || x < 30.0\n",
    "    x = x + sqrt(k)\n",
    "    k = k + 1\n",
    "end"
   ]
  },
  {
   "cell_type": "code",
   "execution_count": 2,
   "metadata": {
    "collapsed": false,
    "scrolled": true
   },
   "outputs": [
    {
     "name": "stdout",
     "output_type": "stream",
     "text": [
      "ans =  7\r\n"
     ]
    }
   ],
   "source": [
    "2+5"
   ]
  },
  {
   "cell_type": "code",
   "execution_count": 1,
   "metadata": {
    "collapsed": false
   },
   "outputs": [
    {
     "name": "stdout",
     "output_type": "stream",
     "text": [
      "ans =  5\r\n"
     ]
    }
   ],
   "source": [
    "2+3\n"
   ]
  }
 ],
 "metadata": {
  "kernelspec": {
   "display_name": "Octave",
   "language": "octave",
   "name": "octave",
   "resource_dir": "/ext/jupyter/kernels/octave"
  },
  "language_info": {
   "file_extension": ".m",
   "help_links": [
    {
     "text": "GNU Octave",
     "url": "https://www.gnu.org/software/octave/support.html"
    },
    {
     "text": "Octave Kernel",
     "url": "https://github.com/Calysto/octave_kernel"
    },
    {
     "text": "MetaKernel Magics",
     "url": "https://metakernel.readthedocs.io/en/latest/source/README.html"
    }
   ],
   "mimetype": "text/x-octave",
   "name": "octave",
   "version": "5.2.0"
  }
 },
 "nbformat": 4,
 "nbformat_minor": 4
}